{
 "cells": [
  {
   "cell_type": "markdown",
   "id": "d6fae958",
   "metadata": {},
   "source": [
    "### Project 2: Similarity Matrix and Language Clustering ###"
   ]
  },
  {
   "cell_type": "markdown",
   "id": "4a41212c",
   "metadata": {},
   "source": [
    "The corpora used in this project was built from the previous MCO's requirements. The bible text were scraped from bible.com and biblegateway.com and were cleaned through Python's RegEx and other methods.\n",
    "\n",
    "---"
   ]
  },
  {
   "cell_type": "code",
   "execution_count": null,
   "id": "954c9466",
   "metadata": {},
   "outputs": [],
   "source": [
    "from helper import *"
   ]
  },
  {
   "cell_type": "markdown",
   "id": "44cf718c",
   "metadata": {},
   "source": [
    "#### Removing Non-Letter Characters From Books\n",
    "In the previous project, I did not account for other characters like semi-colons, parenthesis, comma and such to affect trigram creation so in this section I will be cleaning up those characters"
   ]
  },
  {
   "cell_type": "code",
   "execution_count": null,
   "id": "a31a6b01",
   "metadata": {},
   "outputs": [],
   "source": [
    "clean_corpora(\"MCO1 Corpora\",\"MCO1 Cleaned\")"
   ]
  },
  {
   "cell_type": "markdown",
   "id": "255946be",
   "metadata": {},
   "source": [
    "#### Converting Cleaned Books Into Text Files\n",
    "In this section, I'll be compiling all the cleaned bible verses into a single text file, so that I can create trigrams using Apache Nutch."
   ]
  },
  {
   "cell_type": "code",
   "execution_count": null,
   "id": "e34a7209",
   "metadata": {},
   "outputs": [],
   "source": [
    "compile_per_language(\"MCO1 Cleaned\")"
   ]
  }
 ],
 "metadata": {
  "kernelspec": {
   "display_name": "Python 3",
   "language": "python",
   "name": "python3"
  },
  "language_info": {
   "codemirror_mode": {
    "name": "ipython",
    "version": 3
   },
   "file_extension": ".py",
   "mimetype": "text/x-python",
   "name": "python",
   "nbconvert_exporter": "python",
   "pygments_lexer": "ipython3",
   "version": "3.14.0"
  }
 },
 "nbformat": 4,
 "nbformat_minor": 5
}
