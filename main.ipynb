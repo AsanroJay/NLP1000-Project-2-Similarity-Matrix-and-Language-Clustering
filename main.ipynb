{
 "cells": [
  {
   "cell_type": "markdown",
   "id": "d6fae958",
   "metadata": {},
   "source": [
    "### Project 2: Similarity Matrix and Language Clustering ###"
   ]
  },
  {
   "cell_type": "markdown",
   "id": "4a41212c",
   "metadata": {},
   "source": [
    "The corpora used in this project was built from the previous MCO's requirements. The bible text were scraped from bible.com and biblegateway.com and were cleaned through Python's RegEx and other methods.\n",
    "\n",
    "---"
   ]
  },
  {
   "cell_type": "code",
   "execution_count": 2,
   "id": "954c9466",
   "metadata": {},
   "outputs": [],
   "source": [
    "from helper import *"
   ]
  },
  {
   "cell_type": "markdown",
   "id": "44cf718c",
   "metadata": {},
   "source": [
    "#### Removing Non-Letter Characters From Books\n",
    "In the previous project, I did not account for other characters like semi-colons, parenthesis, comma and such to affect trigram creation so in this section I will be cleaning up those characters"
   ]
  },
  {
   "cell_type": "code",
   "execution_count": 2,
   "id": "a31a6b01",
   "metadata": {},
   "outputs": [
    {
     "name": "stdout",
     "output_type": "stream",
     "text": [
      "Cleaned files saved in: MCO1 Cleaned\n"
     ]
    }
   ],
   "source": [
    "clean_corpora(\"MCO1 Corpora\",\"MCO1 Cleaned\")"
   ]
  },
  {
   "cell_type": "markdown",
   "id": "255946be",
   "metadata": {},
   "source": [
    "#### Converting Cleaned Books Into Text Files\n",
    "In this section, I'll be compiling all the cleaned bible verses into a single text file, so that I can create trigrams using Apache Nutch."
   ]
  },
  {
   "cell_type": "code",
   "execution_count": 3,
   "id": "e34a7209",
   "metadata": {},
   "outputs": [
    {
     "name": "stdout",
     "output_type": "stream",
     "text": [
      "Compiled Bikol → MCO1_Compiled\\Bikol.txt (117 files merged)\n",
      "Compiled Cebuano → MCO1_Compiled\\Cebuano.txt (117 files merged)\n",
      "Compiled English → MCO1_Compiled\\English.txt (117 files merged)\n",
      "Compiled Hiligaynon → MCO1_Compiled\\Hiligaynon.txt (117 files merged)\n",
      "Compiled Ilokano → MCO1_Compiled\\Ilokano.txt (117 files merged)\n",
      "Compiled Kapampangan → MCO1_Compiled\\Kapampangan.txt (117 files merged)\n",
      "Compiled Pangasinense → MCO1_Compiled\\Pangasinense.txt (117 files merged)\n",
      "Compiled Spanish → MCO1_Compiled\\Spanish.txt (117 files merged)\n",
      "Compiled Tagalog → MCO1_Compiled\\Tagalog.txt (117 files merged)\n",
      "Compiled Waray → MCO1_Compiled\\Waray.txt (117 files merged)\n",
      "\n",
      "All languages compiled to: MCO1_Compiled\n"
     ]
    }
   ],
   "source": [
    "compile_per_language(\"MCO1 Cleaned\")"
   ]
  },
  {
   "cell_type": "markdown",
   "id": "59f93a45",
   "metadata": {},
   "source": [
    "---"
   ]
  },
  {
   "cell_type": "markdown",
   "id": "901f7419",
   "metadata": {},
   "source": [
    "### Using Pandas and Scikit-Learn to Compute and Create Similarity Matrix\n",
    "I decided to utilize cosine simlarity to create the similarity matrix of the 10 languages using the dataframe from pandas"
   ]
  },
  {
   "cell_type": "code",
   "execution_count": 4,
   "id": "3b05340e",
   "metadata": {},
   "outputs": [
    {
     "data": {
      "text/html": [
       "<div>\n",
       "<style scoped>\n",
       "    .dataframe tbody tr th:only-of-type {\n",
       "        vertical-align: middle;\n",
       "    }\n",
       "\n",
       "    .dataframe tbody tr th {\n",
       "        vertical-align: top;\n",
       "    }\n",
       "\n",
       "    .dataframe thead th {\n",
       "        text-align: right;\n",
       "    }\n",
       "</style>\n",
       "<table border=\"1\" class=\"dataframe\">\n",
       "  <thead>\n",
       "    <tr style=\"text-align: right;\">\n",
       "      <th></th>\n",
       "      <th>bik</th>\n",
       "      <th>ceb</th>\n",
       "      <th>eng</th>\n",
       "      <th>hil</th>\n",
       "      <th>ilo</th>\n",
       "      <th>pag</th>\n",
       "      <th>pam</th>\n",
       "      <th>spa</th>\n",
       "      <th>tl</th>\n",
       "      <th>war</th>\n",
       "    </tr>\n",
       "  </thead>\n",
       "  <tbody>\n",
       "    <tr>\n",
       "      <th>bik</th>\n",
       "      <td>1.000000</td>\n",
       "      <td>0.742290</td>\n",
       "      <td>0.163085</td>\n",
       "      <td>0.748913</td>\n",
       "      <td>0.438094</td>\n",
       "      <td>0.703929</td>\n",
       "      <td>0.602380</td>\n",
       "      <td>0.227438</td>\n",
       "      <td>0.724275</td>\n",
       "      <td>0.646522</td>\n",
       "    </tr>\n",
       "    <tr>\n",
       "      <th>ceb</th>\n",
       "      <td>0.742290</td>\n",
       "      <td>1.000000</td>\n",
       "      <td>0.140901</td>\n",
       "      <td>0.897769</td>\n",
       "      <td>0.383776</td>\n",
       "      <td>0.501664</td>\n",
       "      <td>0.591697</td>\n",
       "      <td>0.176709</td>\n",
       "      <td>0.809438</td>\n",
       "      <td>0.612960</td>\n",
       "    </tr>\n",
       "    <tr>\n",
       "      <th>eng</th>\n",
       "      <td>0.163085</td>\n",
       "      <td>0.140901</td>\n",
       "      <td>1.000000</td>\n",
       "      <td>0.149200</td>\n",
       "      <td>0.104848</td>\n",
       "      <td>0.175338</td>\n",
       "      <td>0.137593</td>\n",
       "      <td>0.185002</td>\n",
       "      <td>0.163781</td>\n",
       "      <td>0.139312</td>\n",
       "    </tr>\n",
       "    <tr>\n",
       "      <th>hil</th>\n",
       "      <td>0.748913</td>\n",
       "      <td>0.897769</td>\n",
       "      <td>0.149200</td>\n",
       "      <td>1.000000</td>\n",
       "      <td>0.415314</td>\n",
       "      <td>0.532045</td>\n",
       "      <td>0.597370</td>\n",
       "      <td>0.196049</td>\n",
       "      <td>0.822809</td>\n",
       "      <td>0.649778</td>\n",
       "    </tr>\n",
       "    <tr>\n",
       "      <th>ilo</th>\n",
       "      <td>0.438094</td>\n",
       "      <td>0.383776</td>\n",
       "      <td>0.104848</td>\n",
       "      <td>0.415314</td>\n",
       "      <td>1.000000</td>\n",
       "      <td>0.500968</td>\n",
       "      <td>0.361940</td>\n",
       "      <td>0.215296</td>\n",
       "      <td>0.374530</td>\n",
       "      <td>0.390931</td>\n",
       "    </tr>\n",
       "    <tr>\n",
       "      <th>pag</th>\n",
       "      <td>0.703929</td>\n",
       "      <td>0.501664</td>\n",
       "      <td>0.175338</td>\n",
       "      <td>0.532045</td>\n",
       "      <td>0.500968</td>\n",
       "      <td>1.000000</td>\n",
       "      <td>0.477439</td>\n",
       "      <td>0.294798</td>\n",
       "      <td>0.514282</td>\n",
       "      <td>0.534361</td>\n",
       "    </tr>\n",
       "    <tr>\n",
       "      <th>pam</th>\n",
       "      <td>0.602380</td>\n",
       "      <td>0.591697</td>\n",
       "      <td>0.137593</td>\n",
       "      <td>0.597370</td>\n",
       "      <td>0.361940</td>\n",
       "      <td>0.477439</td>\n",
       "      <td>1.000000</td>\n",
       "      <td>0.158536</td>\n",
       "      <td>0.781975</td>\n",
       "      <td>0.348410</td>\n",
       "    </tr>\n",
       "    <tr>\n",
       "      <th>spa</th>\n",
       "      <td>0.227438</td>\n",
       "      <td>0.176709</td>\n",
       "      <td>0.185002</td>\n",
       "      <td>0.196049</td>\n",
       "      <td>0.215296</td>\n",
       "      <td>0.294798</td>\n",
       "      <td>0.158536</td>\n",
       "      <td>1.000000</td>\n",
       "      <td>0.152514</td>\n",
       "      <td>0.201718</td>\n",
       "    </tr>\n",
       "    <tr>\n",
       "      <th>tl</th>\n",
       "      <td>0.724275</td>\n",
       "      <td>0.809438</td>\n",
       "      <td>0.163781</td>\n",
       "      <td>0.822809</td>\n",
       "      <td>0.374530</td>\n",
       "      <td>0.514282</td>\n",
       "      <td>0.781975</td>\n",
       "      <td>0.152514</td>\n",
       "      <td>1.000000</td>\n",
       "      <td>0.465852</td>\n",
       "    </tr>\n",
       "    <tr>\n",
       "      <th>war</th>\n",
       "      <td>0.646522</td>\n",
       "      <td>0.612960</td>\n",
       "      <td>0.139312</td>\n",
       "      <td>0.649778</td>\n",
       "      <td>0.390931</td>\n",
       "      <td>0.534361</td>\n",
       "      <td>0.348410</td>\n",
       "      <td>0.201718</td>\n",
       "      <td>0.465852</td>\n",
       "      <td>1.000000</td>\n",
       "    </tr>\n",
       "  </tbody>\n",
       "</table>\n",
       "</div>"
      ],
      "text/plain": [
       "          bik       ceb       eng       hil       ilo       pag       pam  \\\n",
       "bik  1.000000  0.742290  0.163085  0.748913  0.438094  0.703929  0.602380   \n",
       "ceb  0.742290  1.000000  0.140901  0.897769  0.383776  0.501664  0.591697   \n",
       "eng  0.163085  0.140901  1.000000  0.149200  0.104848  0.175338  0.137593   \n",
       "hil  0.748913  0.897769  0.149200  1.000000  0.415314  0.532045  0.597370   \n",
       "ilo  0.438094  0.383776  0.104848  0.415314  1.000000  0.500968  0.361940   \n",
       "pag  0.703929  0.501664  0.175338  0.532045  0.500968  1.000000  0.477439   \n",
       "pam  0.602380  0.591697  0.137593  0.597370  0.361940  0.477439  1.000000   \n",
       "spa  0.227438  0.176709  0.185002  0.196049  0.215296  0.294798  0.158536   \n",
       "tl   0.724275  0.809438  0.163781  0.822809  0.374530  0.514282  0.781975   \n",
       "war  0.646522  0.612960  0.139312  0.649778  0.390931  0.534361  0.348410   \n",
       "\n",
       "          spa        tl       war  \n",
       "bik  0.227438  0.724275  0.646522  \n",
       "ceb  0.176709  0.809438  0.612960  \n",
       "eng  0.185002  0.163781  0.139312  \n",
       "hil  0.196049  0.822809  0.649778  \n",
       "ilo  0.215296  0.374530  0.390931  \n",
       "pag  0.294798  0.514282  0.534361  \n",
       "pam  0.158536  0.781975  0.348410  \n",
       "spa  1.000000  0.152514  0.201718  \n",
       "tl   0.152514  1.000000  0.465852  \n",
       "war  0.201718  0.465852  1.000000  "
      ]
     },
     "execution_count": 4,
     "metadata": {},
     "output_type": "execute_result"
    }
   ],
   "source": [
    "ngp_dir = \"Trigrams\"\n",
    "\n",
    "df_sim = compute_cosine_similarity_table(ngp_dir)\n",
    "df_sim"
   ]
  },
  {
   "cell_type": "markdown",
   "id": "3a8af600",
   "metadata": {},
   "source": [
    "#### Hierarichal Clustering of Similarity Scores"
   ]
  },
  {
   "cell_type": "code",
   "execution_count": null,
   "id": "c25d8a1d",
   "metadata": {},
   "outputs": [
    {
     "data": {
      "image/png": "[encoded data removed]",
      "text/plain": [
       "<Figure size 1000x600 with 1 Axes>"
      ]
     },
     "metadata": {},
     "output_type": "display_data"
    }
   ],
   "source": [
    "plot_language_dendrogram(df_sim, method=\"average\")"
   ]
  },
  {
   "cell_type": "code",
   "execution_count": 7,
   "id": "5972b825",
   "metadata": {},
   "outputs": [
    {
     "data": {
      "image/png": "[encoded data removed]",
      "text/plain": [
       "<Figure size 1000x600 with 1 Axes>"
      ]
     },
     "metadata": {},
     "output_type": "display_data"
    }
   ],
   "source": [
    "plot_language_dendrogram(df_sim, method=\"complete\")\n"
   ]
  },
  {
   "cell_type": "code",
   "execution_count": null,
   "id": "c895e92c",
   "metadata": {},
   "outputs": [],
   "source": [
    "plot_language_dendrogram(df_sim, method=\"ward\")\n"
   ]
  }
 ],
 "metadata": {
  "kernelspec": {
   "display_name": "Python 3",
   "language": "python",
   "name": "python3"
  },
  "language_info": {
   "codemirror_mode": {
    "name": "ipython",
    "version": 3
   },
   "file_extension": ".py",
   "mimetype": "text/x-python",
   "name": "python",
   "nbconvert_exporter": "python",
   "pygments_lexer": "ipython3",
   "version": "3.13.1"
  }
 },
 "nbformat": 4,
 "nbformat_minor": 5
}
