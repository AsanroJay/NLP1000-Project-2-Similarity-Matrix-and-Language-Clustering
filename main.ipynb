{
 "cells": [
  {
   "cell_type": "markdown",
   "id": "d6fae958",
   "metadata": {},
   "source": [
    "### Project 2: Similarity Matrix and Language Clustering ###"
   ]
  },
  {
   "cell_type": "markdown",
   "id": "4a41212c",
   "metadata": {},
   "source": [
    "The corpora used in this project was built from the previous MCO's requirements. The bible text were scraped from bible.com and biblegateway.com and were cleaned through Python's RegEx and other methods.\n",
    "\n",
    "---"
   ]
  },
  {
   "cell_type": "code",
   "execution_count": 1,
   "id": "954c9466",
   "metadata": {},
   "outputs": [],
   "source": [
    "from helper import *"
   ]
  },
  {
   "cell_type": "markdown",
   "id": "44cf718c",
   "metadata": {},
   "source": [
    "#### Removing Non-Letter Characters From Books\n",
    "In the previous project, I did not account for other characters like semi-colons, parenthesis, comma and such to affect trigram creation so in this section I will be cleaning up those characters"
   ]
  },
  {
   "cell_type": "code",
   "execution_count": 2,
   "id": "a31a6b01",
   "metadata": {},
   "outputs": [
    {
     "name": "stdout",
     "output_type": "stream",
     "text": [
      "Cleaned files saved in: MCO1 Cleaned\n"
     ]
    }
   ],
   "source": [
    "clean_corpora(\"MCO1 Corpora\",\"MCO1 Cleaned\")"
   ]
  },
  {
   "cell_type": "markdown",
   "id": "255946be",
   "metadata": {},
   "source": [
    "#### Converting Cleaned Books Into Text Files\n",
    "In this section, I'll be compiling all the cleaned bible verses into a single text file, so that I can create trigrams using Apache Nutch."
   ]
  },
  {
   "cell_type": "code",
   "execution_count": 3,
   "id": "e34a7209",
   "metadata": {},
   "outputs": [
    {
     "name": "stdout",
     "output_type": "stream",
     "text": [
      "Compiled Bikol → MCO1_Compiled\\Bikol.txt (117 files merged)\n",
      "Compiled Cebuano → MCO1_Compiled\\Cebuano.txt (117 files merged)\n",
      "Compiled English → MCO1_Compiled\\English.txt (117 files merged)\n",
      "Compiled Hiligaynon → MCO1_Compiled\\Hiligaynon.txt (117 files merged)\n",
      "Compiled Ilokano → MCO1_Compiled\\Ilokano.txt (117 files merged)\n",
      "Compiled Kapampangan → MCO1_Compiled\\Kapampangan.txt (117 files merged)\n",
      "Compiled Pangasinense → MCO1_Compiled\\Pangasinense.txt (117 files merged)\n",
      "Compiled Spanish → MCO1_Compiled\\Spanish.txt (117 files merged)\n",
      "Compiled Tagalog → MCO1_Compiled\\Tagalog.txt (117 files merged)\n",
      "Compiled Waray → MCO1_Compiled\\Waray.txt (117 files merged)\n",
      "\n",
      "All languages compiled to: MCO1_Compiled\n"
     ]
    }
   ],
   "source": [
    "compile_per_language(\"MCO1 Cleaned\")"
   ]
  },
  {
   "cell_type": "markdown",
   "id": "901f7419",
   "metadata": {},
   "source": [
    "### Using Pandas and Scikit-Learn to Compute and Create Similarity Matrix"
   ]
  },
  {
   "cell_type": "code",
   "execution_count": null,
   "id": "3b05340e",
   "metadata": {},
   "outputs": [
    {
     "ename": "FileNotFoundError",
     "evalue": "[WinError 3] The system cannot find the path specified: 'MCO1_Compiled/Trigrams'",
     "output_type": "error",
     "traceback": [
      "\u001b[31m---------------------------------------------------------------------------\u001b[39m",
      "\u001b[31mFileNotFoundError\u001b[39m                         Traceback (most recent call last)",
      "\u001b[36mCell\u001b[39m\u001b[36m \u001b[39m\u001b[32mIn[4]\u001b[39m\u001b[32m, line 3\u001b[39m\n\u001b[32m      1\u001b[39m ngp_dir = \u001b[33m\"\u001b[39m\u001b[33mMCO1_Compiled/Trigrams\u001b[39m\u001b[33m\"\u001b[39m\n\u001b[32m----> \u001b[39m\u001b[32m3\u001b[39m df_sim = \u001b[43mcompute_cosine_similarity_table\u001b[49m\u001b[43m(\u001b[49m\u001b[43mngp_dir\u001b[49m\u001b[43m)\u001b[49m\n\u001b[32m      4\u001b[39m df_sim\n",
      "\u001b[36mFile \u001b[39m\u001b[32me:\\GitHub\\NLP1000-Project-2-Similarity-Matrix-and-Language-Clustering\\helper.py:139\u001b[39m, in \u001b[36mcompute_cosine_similarity_table\u001b[39m\u001b[34m(ngp_dir)\u001b[39m\n\u001b[32m    135\u001b[39m \u001b[38;5;28;01mdef\u001b[39;00m\u001b[38;5;250m \u001b[39m\u001b[34mcompute_cosine_similarity_table\u001b[39m(ngp_dir):\n\u001b[32m    136\u001b[39m \u001b[38;5;250m    \u001b[39m\u001b[33;03m\"\"\"\u001b[39;00m\n\u001b[32m    137\u001b[39m \u001b[33;03m    Computes and returns a DataFrame of cosine similarities between languages.\u001b[39;00m\n\u001b[32m    138\u001b[39m \u001b[33;03m    \"\"\"\u001b[39;00m\n\u001b[32m--> \u001b[39m\u001b[32m139\u001b[39m     langs, vectors = \u001b[43mbuild_ngp_vectors\u001b[49m\u001b[43m(\u001b[49m\u001b[43mngp_dir\u001b[49m\u001b[43m)\u001b[49m\n\u001b[32m    140\u001b[39m     sim_matrix = cosine_similarity(vectors)\n\u001b[32m    141\u001b[39m     df_sim = pd.DataFrame(sim_matrix, index=langs, columns=langs)\n",
      "\u001b[36mFile \u001b[39m\u001b[32me:\\GitHub\\NLP1000-Project-2-Similarity-Matrix-and-Language-Clustering\\helper.py:119\u001b[39m, in \u001b[36mbuild_ngp_vectors\u001b[39m\u001b[34m(ngp_dir)\u001b[39m\n\u001b[32m    113\u001b[39m \u001b[38;5;250m\u001b[39m\u001b[33;03m\"\"\"\u001b[39;00m\n\u001b[32m    114\u001b[39m \u001b[33;03mLoads all NGP files in a directory and returns:\u001b[39;00m\n\u001b[32m    115\u001b[39m \u001b[33;03m  - langs: list of language names\u001b[39;00m\n\u001b[32m    116\u001b[39m \u001b[33;03m  - vectors: list of frequency vectors (aligned by ngram vocabulary)\u001b[39;00m\n\u001b[32m    117\u001b[39m \u001b[33;03m\"\"\"\u001b[39;00m\n\u001b[32m    118\u001b[39m profiles = {}\n\u001b[32m--> \u001b[39m\u001b[32m119\u001b[39m \u001b[38;5;28;01mfor\u001b[39;00m filename \u001b[38;5;129;01min\u001b[39;00m \u001b[43mos\u001b[49m\u001b[43m.\u001b[49m\u001b[43mlistdir\u001b[49m\u001b[43m(\u001b[49m\u001b[43mngp_dir\u001b[49m\u001b[43m)\u001b[49m:\n\u001b[32m    120\u001b[39m     \u001b[38;5;28;01mif\u001b[39;00m filename.endswith(\u001b[33m\"\u001b[39m\u001b[33m.ngp\u001b[39m\u001b[33m\"\u001b[39m):\n\u001b[32m    121\u001b[39m         lang = os.path.splitext(filename)[\u001b[32m0\u001b[39m]\n",
      "\u001b[31mFileNotFoundError\u001b[39m: [WinError 3] The system cannot find the path specified: 'MCO1_Compiled/Trigrams'"
     ]
    }
   ],
   "source": [
    "ngp_dir = \"Trigrams\"\n",
    "\n",
    "df_sim = compute_cosine_similarity_table(ngp_dir)\n",
    "df_sim"
   ]
  }
 ],
 "metadata": {
  "kernelspec": {
   "display_name": "Python 3",
   "language": "python",
   "name": "python3"
  },
  "language_info": {
   "codemirror_mode": {
    "name": "ipython",
    "version": 3
   },
   "file_extension": ".py",
   "mimetype": "text/x-python",
   "name": "python",
   "nbconvert_exporter": "python",
   "pygments_lexer": "ipython3",
   "version": "3.14.0"
  }
 },
 "nbformat": 4,
 "nbformat_minor": 5
}
